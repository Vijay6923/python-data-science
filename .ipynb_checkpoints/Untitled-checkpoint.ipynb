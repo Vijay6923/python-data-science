{
 "cells": [
  {
   "cell_type": "code",
   "execution_count": 3,
   "id": "3c9d308b",
   "metadata": {},
   "outputs": [],
   "source": [
    "import pandas as pd"
   ]
  },
  {
   "cell_type": "code",
   "execution_count": 5,
   "id": "8b8b794a",
   "metadata": {},
   "outputs": [],
   "source": [
    "data1={\"name\":[\"yashraj\",\"rohit\",\"dinkar\",\"ravi\"],\n",
    "      \"age\":[23,45,67,78],\n",
    "      \"gender\":[\"male\",\"male\",\"male\",\"male\"],\n",
    "      \"degree\":[\"bsc\",\"bsc\",\"bsc\",\"bsc\"]}"
   ]
  },
  {
   "cell_type": "code",
   "execution_count": 7,
   "id": "0bac0a47",
   "metadata": {},
   "outputs": [
    {
     "data": {
      "text/plain": [
       "{'name': ['yashraj', 'rohit', 'dinkar', 'ravi'],\n",
       " 'age': [23, 45, 67, 78],\n",
       " 'gender': ['male', 'male', 'male', 'male'],\n",
       " 'degree': ['bsc', 'bsc', 'bsc', 'bsc']}"
      ]
     },
     "execution_count": 7,
     "metadata": {},
     "output_type": "execute_result"
    }
   ],
   "source": [
    "data1"
   ]
  },
  {
   "cell_type": "code",
   "execution_count": 9,
   "id": "1f16934c",
   "metadata": {},
   "outputs": [],
   "source": [
    "df=pd.DataFrame(data=data1)"
   ]
  },
  {
   "cell_type": "code",
   "execution_count": 10,
   "id": "ab2f0daf",
   "metadata": {},
   "outputs": [
    {
     "data": {
      "text/html": [
       "<div>\n",
       "<style scoped>\n",
       "    .dataframe tbody tr th:only-of-type {\n",
       "        vertical-align: middle;\n",
       "    }\n",
       "\n",
       "    .dataframe tbody tr th {\n",
       "        vertical-align: top;\n",
       "    }\n",
       "\n",
       "    .dataframe thead th {\n",
       "        text-align: right;\n",
       "    }\n",
       "</style>\n",
       "<table border=\"1\" class=\"dataframe\">\n",
       "  <thead>\n",
       "    <tr style=\"text-align: right;\">\n",
       "      <th></th>\n",
       "      <th>name</th>\n",
       "      <th>age</th>\n",
       "      <th>gender</th>\n",
       "      <th>degree</th>\n",
       "    </tr>\n",
       "  </thead>\n",
       "  <tbody>\n",
       "    <tr>\n",
       "      <th>0</th>\n",
       "      <td>yashraj</td>\n",
       "      <td>23</td>\n",
       "      <td>male</td>\n",
       "      <td>bsc</td>\n",
       "    </tr>\n",
       "    <tr>\n",
       "      <th>1</th>\n",
       "      <td>rohit</td>\n",
       "      <td>45</td>\n",
       "      <td>male</td>\n",
       "      <td>bsc</td>\n",
       "    </tr>\n",
       "    <tr>\n",
       "      <th>2</th>\n",
       "      <td>dinkar</td>\n",
       "      <td>67</td>\n",
       "      <td>male</td>\n",
       "      <td>bsc</td>\n",
       "    </tr>\n",
       "    <tr>\n",
       "      <th>3</th>\n",
       "      <td>ravi</td>\n",
       "      <td>78</td>\n",
       "      <td>male</td>\n",
       "      <td>bsc</td>\n",
       "    </tr>\n",
       "  </tbody>\n",
       "</table>\n",
       "</div>"
      ],
      "text/plain": [
       "      name  age gender degree\n",
       "0  yashraj   23   male    bsc\n",
       "1    rohit   45   male    bsc\n",
       "2   dinkar   67   male    bsc\n",
       "3     ravi   78   male    bsc"
      ]
     },
     "execution_count": 10,
     "metadata": {},
     "output_type": "execute_result"
    }
   ],
   "source": [
    "df"
   ]
  },
  {
   "cell_type": "code",
   "execution_count": 12,
   "id": "25953487",
   "metadata": {},
   "outputs": [],
   "source": [
    "ages=df1=pd.Series([23,45,67,78],name=\"anything\")"
   ]
  },
  {
   "cell_type": "code",
   "execution_count": null,
   "id": "11a9c94f",
   "metadata": {},
   "outputs": [],
   "source": []
  },
  {
   "cell_type": "code",
   "execution_count": null,
   "id": "be4378d8",
   "metadata": {},
   "outputs": [],
   "source": []
  }
 ],
 "metadata": {
  "kernelspec": {
   "display_name": "Python 3 (ipykernel)",
   "language": "python",
   "name": "python3"
  },
  "language_info": {
   "codemirror_mode": {
    "name": "ipython",
    "version": 3
   },
   "file_extension": ".py",
   "mimetype": "text/x-python",
   "name": "python",
   "nbconvert_exporter": "python",
   "pygments_lexer": "ipython3",
   "version": "3.11.5"
  }
 },
 "nbformat": 4,
 "nbformat_minor": 5
}
